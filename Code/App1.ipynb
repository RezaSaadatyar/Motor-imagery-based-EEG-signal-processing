{
 "cells": [
  {
   "cell_type": "markdown",
   "metadata": {},
   "source": [
    "**Motor imagery-based EEG signal processing**<br/>\n",
    "Presented by: Reza Saadatyar  2022-2023 <br/>\n",
    "E-mail: Reza.Saadatyar92@gmail.com  <br/>\n",
    "[Link](https://github.com/RezaSaadatyar/Motor-imagery-based-EEG-signal-processing)\n"
   ]
  },
  {
   "cell_type": "markdown",
   "metadata": {},
   "source": [
    "================================== Importing the required Libraries ==========================="
   ]
  },
  {
   "cell_type": "code",
   "execution_count": 2,
   "metadata": {},
   "outputs": [],
   "source": [
    "import numpy as np\n",
    "from scipy.io import loadmat\n",
    "import matplotlib.pyplot as plt"
   ]
  },
  {
   "cell_type": "markdown",
   "metadata": {},
   "source": [
    "========================================= Functions =================================="
   ]
  },
  {
   "cell_type": "code",
   "execution_count": null,
   "metadata": {},
   "outputs": [],
   "source": []
  },
  {
   "cell_type": "markdown",
   "metadata": {},
   "source": [
    "*1. Importing the raw data*<br/>\n",
    "[Dataset](https://www.bbci.de/competition/iv/desc_1.html)<br/>\n",
    "*Parameters of data:*\n",
    " - *cnt:* the continuous EEG signals, size [time x channels]. The array is stored in datatype INT16. To convert it to uV values, use cnt= 0.1*double(cnt); in Matlab.<br/>\n",
    " - *mrk:* structure of target cue information with fields (the file of evaluation data does not contain this variable).<br/>\n",
    " - *pos:* vector of positions of the cue in the EEG signals given in unit sample, length #cues.<br/>\n",
    " - *y:* vector of target classes (-1 for class one or 1 for class two), length #cues.<br/>\n",
    " - *nfo:* structure providing additional information with fields.<br/>\n",
    " - *fs:* sampling rate.<br/>\n",
    " - *clab:* cell array of channel labels.<br/>\n",
    " - *xpos:* x-position of electrodes in a 2d-projection.<br/>\n",
    " - *ypos:* y-position of electrodes in a 2d-projection.<br/>"
   ]
  },
  {
   "cell_type": "code",
   "execution_count": 16,
   "metadata": {},
   "outputs": [
    {
     "name": "stdout",
     "output_type": "stream",
     "text": [
      "Variables = ['cnt', 'mrk', 'nfo']\n"
     ]
    }
   ],
   "source": [
    "data_set = loadmat('BCICIV_calib_ds1a_100Hz.mat')\n",
    "print(f\"Variables = {list(data_set.keys())[3:]}\")"
   ]
  },
  {
   "cell_type": "code",
   "execution_count": 14,
   "metadata": {},
   "outputs": [
    {
     "data": {
      "text/plain": [
       "['cnt', 'mrk', 'nfo']"
      ]
     },
     "execution_count": 14,
     "metadata": {},
     "output_type": "execute_result"
    }
   ],
   "source": []
  },
  {
   "cell_type": "code",
   "execution_count": null,
   "metadata": {},
   "outputs": [],
   "source": [
    "\n",
    "Data = np.double(data_set['cnt']) * 0.1\n",
    "N = Data.shape[1]\n",
    "\n",
    "Nfo = data_set['nfo']\n",
    "Fs = 100\n",
    "Time = np.arange(Data.shape[0]) / Fs\n",
    "\n",
    "Mrk = data_set['mrk']\n",
    "Time_Trial = np.array(Mrk['pos'].tolist()).flatten()"
   ]
  }
 ],
 "metadata": {
  "kernelspec": {
   "display_name": "Python 3",
   "language": "python",
   "name": "python3"
  },
  "language_info": {
   "codemirror_mode": {
    "name": "ipython",
    "version": 3
   },
   "file_extension": ".py",
   "mimetype": "text/x-python",
   "name": "python",
   "nbconvert_exporter": "python",
   "pygments_lexer": "ipython3",
   "version": "3.11.4"
  },
  "orig_nbformat": 4
 },
 "nbformat": 4,
 "nbformat_minor": 2
}
