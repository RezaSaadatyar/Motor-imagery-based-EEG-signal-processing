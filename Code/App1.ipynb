{
 "cells": [
  {
   "cell_type": "markdown",
   "metadata": {},
   "source": [
    "**Motor imagery-based EEG signal processing**<br/>\n",
    "Presented by: Reza Saadatyar  2022-2023 <br/>\n",
    "E-mail: Reza.Saadatyar92@gmail.com  <br/>\n",
    "[Link](https://github.com/RezaSaadatyar/Motor-imagery-based-EEG-signal-processing)\n"
   ]
  },
  {
   "cell_type": "markdown",
   "metadata": {},
   "source": [
    "================================== Importing the required Libraries ==========================="
   ]
  },
  {
   "cell_type": "code",
   "execution_count": 2,
   "metadata": {},
   "outputs": [],
   "source": [
    "import os\n",
    "import sys\n",
    "import numpy as np\n",
    "import pandas as pd\n",
    "from scipy import io, signal\n",
    "import matplotlib.pyplot as plt\n",
    "from sklearn import preprocessing"
   ]
  },
  {
   "cell_type": "markdown",
   "metadata": {},
   "source": [
    "========================================= Functions =================================="
   ]
  },
  {
   "cell_type": "code",
   "execution_count": 10,
   "metadata": {},
   "outputs": [],
   "source": [
    "# =============================================== Preparing data =========================================================\n",
    "def Prepare_data(data, channels=None):  \n",
    "    # ?------------------------------------------- Check type data -------------------------------------------      \n",
    "    if 'DataFrame' not in str(type(data)):      \n",
    "        data = pd.DataFrame(data)\n",
    "    # !--------------------------------------- Check dimensional data ----------------------------------------\n",
    "    if data.ndim < 3:\n",
    "        if data.shape[0] < data.shape[1]:\n",
    "            data = data.T\n",
    "    elif data.ndim > 3:\n",
    "        print(\"Please configure the data as two-dimensional (Sample * Channels)\")\n",
    "        sys.exit()\n",
    "    # *--------------------------------------------- Set channels --------------------------------------------\n",
    "    if channels is not None:\n",
    "        data.columns=channels \n",
    "    else:\n",
    "        data.columns = np.arange(1,data.shape[1]+1)\n",
    "       \n",
    "    return data, list(data.columns )\n",
    "\n",
    "# =================================================== Labels =============================================================\n",
    "def labels(Labels):\n",
    "    \n",
    "    labels = preprocessing.LabelEncoder()       # Encode target labels with value between 0 and n_classes-1\n",
    "    Labels = labels.fit_transform(Labels)\n",
    "    \n",
    "    return Labels\n",
    "\n",
    "# ================================================= Plot data ============================================================\n",
    "def plot_data(data, Fs=None, channels=None, first_point=0, last_point=100, normalize_data='on', val_ylim=70, size_fig=(7,5)):\n",
    "    # ?--------------------------- Check type, dimensional data & set channels -------------------------------\n",
    "    if data.ndim < 3:\n",
    "        if data.shape[0] < data.shape[1]:\n",
    "            data = data.T\n",
    "    elif data.ndim > 3:\n",
    "        print(\"Please configure the data as two-dimensional (Sample * Channels)\")\n",
    "        sys.exit()\n",
    "        \n",
    "    if 'DataFrame' not in str(type(data)):     \n",
    "        data = pd.DataFrame(data)\n",
    "        \n",
    "    if channels is not None:\n",
    "        data.columns=channels \n",
    "    else:\n",
    "        data.columns = np.arange(1,data.shape[1]+1)\n",
    "    # *------------------------------------------ Normalize data ---------------------------------------------\n",
    "    if normalize_data == 'on':\n",
    "        data = (data-np.min(data.values, axis=0))/(np.max(data.values, axis=0)-np.min(data.values, axis=0))\n",
    "    # !-------------------------------------------- Set figure -----------------------------------------------   \n",
    "    _, axs = plt.subplots(nrows=1,sharey='row', figsize=size_fig)\n",
    "\n",
    "    data = data.iloc[first_point:last_point,:]\n",
    "    if Fs is not None and np.array(Fs) > 0:\n",
    "        time = (np.linspace(start=first_point/Fs, stop=last_point/Fs, num=len(data))).flatten()\n",
    "        axs.plot(time, data + val_ylim*np.arange(data.shape[1],0,-1))\n",
    "        axs.set_xlabel('Time (sec)', fontsize=10)\n",
    "    else:\n",
    "        axs.plot(data + val_ylim*np.arange(data.shape[1],0,-1))\n",
    "        axs.set_xlabel('sample', fontsize=10)\n",
    "    axs.set_ylim([np.min(val_ylim*np.arange(data.shape[1],0,-1))+np.min(data.iloc[:,data.shape[1]-1]), np.max(val_ylim*np.arange(data.shape[1],0,-1))+np.max(data.iloc[:,0])])\n",
    "    axs.set_title(f\"chnannels: {len(channels)}#\", fontsize=10)\n",
    "    axs.set_yticks((val_ylim*np.arange(data.shape[1],0,-1)))\n",
    "    axs.set_yticklabels(data.columns)\n",
    "    axs.tick_params(axis='x', labelsize=8)\n",
    "    axs.tick_params(axis='y', labelsize=8)\n",
    "    axs.set_ylabel('Channels', fontsize=10)\n",
    "    axs.autoscale(enable=None, axis=\"y\", tight=True)\n",
    "    axs.tick_params(axis='y', color='k', labelcolor='k')\n",
    "    \n",
    "# =========================================== Channel locations ==========================================================     \n",
    "def channel_locations(x_pos, y_pos, channels):\n",
    "    \n",
    "    _, axs = plt.subplots(nrows=1, sharey='row', figsize=(2.7, 2.7), facecolor='#D6D6D6')\n",
    "    circ = np.linspace(start=0, stop=2*np.pi, num=200).flatten()\n",
    "    \n",
    "    if channels is None:\n",
    "        channels = np.arange(1,len(x_pos)+1)\n",
    "    # ?------------------------------------------- Check type data -------------------------------\n",
    "    if 'Series' not in str(type(x_pos)):      # Check type Th\n",
    "        x_pos = pd.Series(x_pos)\n",
    "    if 'Series' not in str(type(y_pos)):      # Check type Rd\n",
    "        y_pos = pd.Series(y_pos)\n",
    "    # *------------------------------------------ Radius < 2 -------------------------------------\n",
    "    if x_pos.max() < 2 and y_pos.max() < 2:\n",
    "        rx = (max(x_pos)+0.05)*np.sin(circ)\n",
    "        ry = (max(x_pos)+0.05)*np.cos(circ)\n",
    "        EarX = np.array([.497-.005, .510, .518, .5299, .5419, .54, .547, .532, .510, .489-.005])+max(rx)/2-0.02\n",
    "        EarY = np.array([0.04+.0555, 0.04+.0775, 0.04+.0783, 0.04+.0746, 0.02+.0555, -.0055, -.0932, -.1313, -.1384, -.1199])+0.04\n",
    "        \n",
    "        axs.plot(rx, ry, 'k')\n",
    "        axs.plot(x_pos, y_pos, '.')\n",
    "        axs.plot(EarX, EarY, 'k')    # plot right ear\n",
    "        axs.plot(-EarX, EarY, 'k')   # plot left ear\n",
    "        axs.plot(np.array([0.08, 0.01, 0, -0.01, -0.08]),\n",
    "            np.array([0.4954, 0.57, 0.575, 0.57, 0.4954])+max(rx)/2-0.02, 'k')  # plot nose\n",
    "        for ind, val in enumerate(channels):\n",
    "            axs.text(x_pos[ind], y_pos[ind]+0.05, val, fontsize=5.5,\n",
    "                 horizontalalignment='center', verticalalignment='center')\n",
    "    # *-------------------------------------- Convert degree to radian ---------------------------    \n",
    "    elif x_pos.max() > 2 or y_pos.max() > 2:\n",
    "        if x_pos.max() > 20:\n",
    "            x_pos = (np.pi/180)*x_pos\n",
    "        elif y_pos.max() > 20:\n",
    "            y_pos = (np.pi/180)*y_pos\n",
    "            \n",
    "        sq = 0.5/max(min(1.0, max(y_pos)*1.02), 0.5)\n",
    "        x = y_pos * np.cos(x_pos) * sq\n",
    "        y = y_pos * np.sin(x_pos) * sq\n",
    "        EarX = np.dot([.497-.005, .510, .518, .5299, .5419, .54, .547, .532, .510, .489-.005], 1.13)\n",
    "        EarY = np.dot([0.04+.0555, 0.04+.0775, 0.04+.0783, 0.04+.0746,\n",
    "                0.02+.0555, -.0055, -.0932, -.1313, -.1384, -.1199], 1.13) \n",
    "    # !------------------------------------------- Set figure -------------------------------------\n",
    "    axs.set_axis_off()\n",
    "    axs.set_title('Channel locations',  fontsize=8.5)\n",
    "    axs.set_aspect('equal', adjustable='box')\n",
    "    plt.tight_layout()\n",
    "    plt.subplots_adjust(wspace=0.0, hspace=0.0)\n",
    "    \n",
    "    from scipy import signal\n",
    "\n",
    "# ================================================ Filtering =============================================================  \n",
    "def filtering(data, f_low, f_high, order, fs, type_filter):\n",
    "    f_low = f_low / (fs / 2)\n",
    "    f_high = f_high / (fs / 2)\n",
    "    if type_filter == \"low\":\n",
    "        b, a = signal.butter(order, f_low, btype='low')\n",
    "    elif type_filter == \"high\":\n",
    "        b, a = signal.butter(order, f_high, btype='high')\n",
    "    elif type_filter == \"bandpass\":\n",
    "        b, a = signal.butter(order, [f_low, f_high], btype='bandpass')\n",
    "    elif type_filter == \"bandstop\":\n",
    "        b, a = signal.butter(order, [f_low, f_high], btype='bandstop')\n",
    "    data_filter = signal.filtfilt(b, a, data)\n",
    "    return data_filter"
   ]
  },
  {
   "cell_type": "markdown",
   "metadata": {},
   "source": [
    "*1. [Dataset](https://www.bbci.de/competition/iv/desc_1.html)*<br/>\n",
    "*Parameters of data:*\n",
    "  - *cnt:* the continuous EEG signals, size [time x channels]. The array is stored in datatype INT16. To convert it to uV values, use cnt= 0.1*double(cnt); in Matlab.\n",
    "  - *mrk:* structure of target cue information with fields (the file of evaluation data does not contain this variable).\n",
    "    - *pos:* vector of positions of the cue in the EEG signals given in unit sample, length #cues.\n",
    "    - *y:* vector of target classes (-1 for class one or 1 for class two), length #cues.\n",
    "  - *nfo:* structure providing additional information with fields\n",
    "    - *fs:* sampling rate\n",
    "    - *clab:* cell array of channel labels\n",
    "    - *classes:* cell array of the names of the motor imagery classes\n",
    "    - *xpos:* x-position of electrodes in a 2d-projection\n",
    "    - *ypos:* y-position of electrodes in a 2d-projection"
   ]
  },
  {
   "cell_type": "markdown",
   "metadata": {},
   "source": [
    "*Step 1.1:  Importing & preparing the raw data*"
   ]
  },
  {
   "cell_type": "code",
   "execution_count": 5,
   "metadata": {},
   "outputs": [
    {
     "name": "stdout",
     "output_type": "stream",
     "text": [
      "Variables = ['cnt', 'mrk', 'nfo']\n"
     ]
    }
   ],
   "source": [
    "data_set = io.loadmat('BCICIV_calib_ds1a_100Hz.mat')\n",
    "print(f\"Variables = {list(data_set.keys())[3:]}\")"
   ]
  },
  {
   "cell_type": "code",
   "execution_count": 6,
   "metadata": {},
   "outputs": [],
   "source": [
    "data = np.double(data_set['cnt']) * 0.1\n",
    "\n",
    "Mrk = data_set['mrk']                   # Time of trials\n",
    "Time_Trial = np.concatenate(*Mrk['pos'].flatten())\n",
    "Labels = np.concatenate(*Mrk['y'].flatten())\n",
    "\n",
    "Nfo = data_set['nfo']\n",
    "Fs = Nfo['fs']\n",
    "channels = np.concatenate(np.array(Nfo['clab'].tolist()).flatten())\n",
    "Name_class = Nfo['classes']\n",
    "x_pos = np.concatenate(*Nfo['xpos'].flatten())\n",
    "y_pos = np.concatenate(*Nfo['ypos'].flatten())\n",
    "\n",
    "Position_XY = np.array([x_pos, y_pos])  # Position electrode"
   ]
  },
  {
   "cell_type": "code",
   "execution_count": 7,
   "metadata": {},
   "outputs": [],
   "source": [
    "data, channels = Prepare_data(data, channels)\n",
    "Labels =labels(Labels)                          # Encode target labels with value between 0 and n_classes-1"
   ]
  },
  {
   "cell_type": "markdown",
   "metadata": {},
   "source": [
    "*Step 1.2: Plot data and channels*"
   ]
  },
  {
   "cell_type": "code",
   "execution_count": null,
   "metadata": {},
   "outputs": [],
   "source": [
    "plot_data(data, Fs, channels, first_point=0, last_point=600, normalize_data='off',val_ylim=80, size_fig=(7,9))\n",
    "channel_locations(x_pos, y_pos, channels)"
   ]
  },
  {
   "cell_type": "markdown",
   "metadata": {},
   "source": [
    "*Step 2: Filtering*\n",
    " - *Band pass filtering to get beta and mu band information*"
   ]
  },
  {
   "cell_type": "code",
   "execution_count": 11,
   "metadata": {},
   "outputs": [],
   "source": [
    "data_filter = filtering(data, f_low=8, f_high=30, order=3, fs=100, type_filter='bandpass') # btype:'low','high','bandpass','bandstop'"
   ]
  },
  {
   "cell_type": "markdown",
   "metadata": {},
   "source": [
    "*Step 3: Spatial filter*"
   ]
  }
 ],
 "metadata": {
  "kernelspec": {
   "display_name": "Python 3",
   "language": "python",
   "name": "python3"
  },
  "language_info": {
   "codemirror_mode": {
    "name": "ipython",
    "version": 3
   },
   "file_extension": ".py",
   "mimetype": "text/x-python",
   "name": "python",
   "nbconvert_exporter": "python",
   "pygments_lexer": "ipython3",
   "version": "3.11.4"
  },
  "orig_nbformat": 4
 },
 "nbformat": 4,
 "nbformat_minor": 2
}
