{
 "cells": [
  {
   "cell_type": "markdown",
   "metadata": {},
   "source": [
    "**Motor imagery-based EEG signal processing**<br/>\n",
    "Presented by: Reza Saadatyar  2022-2023 <br/>\n",
    "E-mail: Reza.Saadatyar92@gmail.com  <br/>\n",
    "[Link](https://github.com/RezaSaadatyar/Motor-imagery-based-EEG-signal-processing)\n"
   ]
  },
  {
   "cell_type": "markdown",
   "metadata": {},
   "source": [
    "================================== Importing the required Libraries ==========================="
   ]
  },
  {
   "cell_type": "code",
   "execution_count": 3,
   "metadata": {},
   "outputs": [],
   "source": [
    "import os\n",
    "import sys\n",
    "import numpy as np\n",
    "import pandas as pd\n",
    "from scipy import io, signal\n",
    "import matplotlib.pyplot as plt\n",
    "from sklearn import preprocessing"
   ]
  },
  {
   "cell_type": "markdown",
   "metadata": {},
   "source": [
    "========================================= Functions =================================="
   ]
  },
  {
   "cell_type": "code",
   "execution_count": 16,
   "metadata": {},
   "outputs": [],
   "source": [
    "# =============================================== Preparing data =========================================================\n",
    "def Prepare_data(data, channels=None):  \n",
    "    # ?------------------------------------------- Check type data -------------------------------------------      \n",
    "    if 'DataFrame' not in str(type(data)):      \n",
    "        data = pd.DataFrame(data)\n",
    "    # !--------------------------------------- Check dimensional data ----------------------------------------\n",
    "    if data.ndim < 3:\n",
    "        if data.shape[0] < data.shape[1]:\n",
    "            data = data.T\n",
    "    elif data.ndim > 3:\n",
    "        print(\"Please configure the data as two-dimensional (Sample * Channels)\")\n",
    "        sys.exit()\n",
    "    # *--------------------------------------------- Set channels --------------------------------------------\n",
    "    if channels is not None:\n",
    "        data.columns=channels \n",
    "    else:\n",
    "        data.columns = np.arange(1,data.shape[1]+1)\n",
    "       \n",
    "    return data, list(data.columns )\n",
    "\n",
    "# =================================================== Labels =============================================================\n",
    "def labels(Labels):\n",
    "    \n",
    "    labels = preprocessing.LabelEncoder()       # Encode target labels with value between 0 and n_classes-1\n",
    "    Labels = labels.fit_transform(Labels)\n",
    "    \n",
    "    return Labels\n",
    "\n",
    "# ================================================= Plot data ============================================================\n",
    "def plot_data(data, Fs=None, channels=None, first_point=0, last_point=100, normalize_data='', val_ylim='', size_fig=(7,5),title=''):\n",
    "    # ?--------------------------- Check type, dimensional data & set channels -------------------------------\n",
    "    if data.ndim < 3:\n",
    "        if data.shape[0] < data.shape[1]:\n",
    "            data = data.T\n",
    "    elif data.ndim > 3:\n",
    "        print(\"Please configure the data as two-dimensional (Sample * Channels)\")\n",
    "        sys.exit()\n",
    "        \n",
    "    if 'DataFrame' not in str(type(data)):     \n",
    "        data = pd.DataFrame(data)\n",
    "        \n",
    "    if channels is not None:\n",
    "        data.columns=channels \n",
    "    else:\n",
    "        data.columns = np.arange(1,data.shape[1]+1)\n",
    "    # *------------------------------------------ Normalize data ---------------------------------------------\n",
    "    if normalize_data == 'on':\n",
    "        data = (data-np.min(data.values, axis=0))/(np.max(data.values, axis=0)-np.min(data.values, axis=0))\n",
    "    # !-------------------------------------------- Set figure -----------------------------------------------   \n",
    "    _, axs = plt.subplots(nrows=1,sharey='row', figsize=size_fig)\n",
    "\n",
    "    data = data.iloc[first_point:last_point,:]\n",
    "    if Fs is not None and np.array(Fs) > 0:\n",
    "        time = (np.linspace(start=first_point/Fs, stop=last_point/Fs, num=len(data))).flatten()\n",
    "        axs.plot(time, data + val_ylim*np.arange(data.shape[1],0,-1))\n",
    "        axs.set_xlabel('Time (sec)', fontsize=10)\n",
    "    else:\n",
    "        axs.plot(data + val_ylim*np.arange(data.shape[1],0,-1))\n",
    "        axs.set_xlabel('sample', fontsize=10)\n",
    "        \n",
    "    axs.set_title(f\"chnannels: {len(channels)}#; {title}\", fontsize=10)\n",
    "    axs.set_yticks((val_ylim*np.arange(data.shape[1],0,-1)))\n",
    "    axs.set_yticklabels(data.columns)\n",
    "    axs.tick_params(axis='x', labelsize=8)\n",
    "    axs.tick_params(axis='y', labelsize=8)\n",
    "    axs.set_ylabel('Channels', fontsize=10)\n",
    "    axs.autoscale(enable=True, axis=\"x\",tight=True)\n",
    "    axs.tick_params(axis='y', color='k', labelcolor='k')\n",
    "    axs.set_ylim([np.min(val_ylim*np.arange(data.shape[1],0,-1))+ np.min([np.min(data.iloc[:,data.shape[1]-1]), np.min(data.iloc[:,data.shape[1]-2])]), \n",
    "                  np.max(val_ylim*np.arange(data.shape[1],0,-1))+np.max([np.max(data.iloc[:,0]), np.max(data.iloc[:,1])])])\n",
    "    \n",
    "# =========================================== Channel locations ==========================================================     \n",
    "def channel_locations(x_pos, y_pos, channels, color='#D6D6D6'):\n",
    "    \n",
    "    _, axs = plt.subplots(nrows=1, sharey='row', figsize=(2.7, 2.7), facecolor=color)\n",
    "    circ = np.linspace(start=0, stop=2*np.pi, num=200).flatten()\n",
    "    \n",
    "    if channels is None:\n",
    "        channels = np.arange(1,len(x_pos)+1)\n",
    "    # ?------------------------------------------- Check type data -------------------------------\n",
    "    if 'Series' not in str(type(x_pos)):      # Check type Th\n",
    "        x_pos = pd.Series(x_pos)\n",
    "    if 'Series' not in str(type(y_pos)):      # Check type Rd\n",
    "        y_pos = pd.Series(y_pos)\n",
    "    # *------------------------------------------ Radius < 2 -------------------------------------\n",
    "    if x_pos.max() < 2 and y_pos.max() < 2:\n",
    "        rx = (max(x_pos)+0.05)*np.sin(circ)\n",
    "        ry = (max(x_pos)+0.05)*np.cos(circ)\n",
    "        EarX = np.array([.497-.005, .510, .518, .5299, .5419, .54, .547, .532, .510, .489-.005])+max(rx)/2-0.02\n",
    "        EarY = np.array([0.04+.0555, 0.04+.0775, 0.04+.0783, 0.04+.0746, 0.02+.0555, -.0055, -.0932, -.1313, -.1384, -.1199])+0.04\n",
    "        \n",
    "        axs.plot(rx, ry, 'k')\n",
    "        axs.plot(x_pos, y_pos, '.')\n",
    "        axs.plot(EarX, EarY, 'k')    # plot right ear\n",
    "        axs.plot(-EarX, EarY, 'k')   # plot left ear\n",
    "        axs.plot(np.array([0.08, 0.01, 0, -0.01, -0.08]),\n",
    "            np.array([0.4954, 0.57, 0.575, 0.57, 0.4954])+max(rx)/2-0.02, 'k')  # plot nose\n",
    "        for ind, val in enumerate(channels):\n",
    "            axs.text(x_pos[ind], y_pos[ind]+0.05, val, fontsize=5.5,\n",
    "                 horizontalalignment='center', verticalalignment='center')\n",
    "    # *-------------------------------------- Convert degree to radian ---------------------------    \n",
    "    elif x_pos.max() > 2 or y_pos.max() > 2:\n",
    "        if x_pos.max() > 20:\n",
    "            x_pos = (np.pi/180)*x_pos\n",
    "        elif y_pos.max() > 20:\n",
    "            y_pos = (np.pi/180)*y_pos\n",
    "            \n",
    "        sq = 0.5/max(min(1.0, max(y_pos)*1.02), 0.5)\n",
    "        x = y_pos * np.cos(x_pos) * sq\n",
    "        y = y_pos * np.sin(x_pos) * sq\n",
    "        EarX = np.dot([.497-.005, .510, .518, .5299, .5419, .54, .547, .532, .510, .489-.005], 1.13)\n",
    "        EarY = np.dot([0.04+.0555, 0.04+.0775, 0.04+.0783, 0.04+.0746,\n",
    "                0.02+.0555, -.0055, -.0932, -.1313, -.1384, -.1199], 1.13) \n",
    "    # !------------------------------------------- Set figure -------------------------------------\n",
    "    axs.set_axis_off()\n",
    "    axs.set_title('Channel locations',  fontsize=8.5)\n",
    "    axs.set_aspect('equal', adjustable='box')\n",
    "    plt.tight_layout()\n",
    "    plt.subplots_adjust(wspace=0.0, hspace=0.0)\n",
    "    \n",
    "# ================================================ Filtering =============================================================  \n",
    "def filtering(data, f_low, f_high, order, fs, type_filter):\n",
    "    f_low = f_low / (fs / 2)\n",
    "    f_high = f_high / (fs / 2)\n",
    "    if type_filter == \"low\":\n",
    "        b, a = signal.butter(order, f_low, btype='low')\n",
    "    elif type_filter == \"high\":\n",
    "        b, a = signal.butter(order, f_high, btype='high')\n",
    "    elif type_filter == \"bandpass\":\n",
    "        b, a = signal.butter(order, [f_low, f_high], btype='bandpass')\n",
    "    elif type_filter == \"bandstop\":\n",
    "        b, a = signal.butter(order, [f_low, f_high], btype='bandstop')\n",
    "        \n",
    "    data_filter = pd.DataFrame(signal.filtfilt(b, a, data))\n",
    "    data_filter.columns = data.columns\n",
    "    return data_filter\n",
    "\n",
    "# ================================================ CAR Filter =============================================================  \n",
    "def car_filter(data):\n",
    "    # !--------------------------------------- Check dimensional data ----------------------------------------\n",
    "    if data.ndim < 3:\n",
    "        if data.shape[0] < data.shape[1]:\n",
    "            data = data.T\n",
    "    # *---------------------------------- Calculating the Average Signal -------------------------------------\n",
    "    data_car = np.zeros((data.shape))\n",
    "    mean = np.mean(data, axis=1)                                                \n",
    "    #  ---------------------------------- Subtracting the Average Signal -------------------------------------\n",
    "    for ind in range(data.shape[1]):                     \n",
    "        data_car[:, ind] = data.iloc[:, ind] - mean\n",
    "    \n",
    "    data_car = pd.DataFrame(data_car)\n",
    "    data_car.columns = data.columns\n",
    "    return data_car\n",
    "\n",
    "# ============================================= Laplacian Filter ========================================================== \n",
    "def laplacian(data, x_pos, y_pos, type_laplacian='low', display_figure='on'):\n",
    "\n",
    "    if data.ndim < 3:\n",
    "        if data.shape[0] < data.shape[1]:\n",
    "            data = data.T\n",
    "    elif data.ndim > 3:\n",
    "        print(\"Please configure the data as two-dimensional (Sample * Channels)\")\n",
    "        sys.exit()\n",
    "        \n",
    "    if 'DataFrame' not in str(type(data)):     \n",
    "        data = pd.DataFrame(data)\n",
    "    \n",
    "    if x_pos.max() > 10:\n",
    "        x_pos = (np.pi/180)*x_pos\n",
    "    elif y_pos.max() > 10:\n",
    "        y_pos = (np.pi/180)*y_pos\n",
    "    \n",
    "    xy = np.array([x_pos, y_pos])                           # Electrodes Position\n",
    "    data_laplacian = np.zeros(np.shape(data))\n",
    "    for i in range(data.shape[1]):\n",
    "        dis = np.zeros(data.shape[1])\n",
    "        for j in range(data.shape[1]):                       \n",
    "            dis[j] = np.linalg.norm(xy[:, i] - xy[:, j])      # Euclidean distance\n",
    "            \n",
    "        ind = np.argsort(dis)                                 # Sort distance\n",
    "        if type_laplacian == 'low' and data.shape[1] > 9: \n",
    "            ind = ind[1:9]\n",
    "        elif type_laplacian == 'high' and data.shape[1] > 21:  \n",
    "            ind = ind[9:21]\n",
    "        else:\n",
    "            print('\\033[91m'+\"Error ---> The data should have more than 9 dimensions for low Laplacian and more than 21 dimensions for high Laplacian\"+'\\033[91m')\n",
    "            break\n",
    "      \n",
    "        neighbors_electrode = xy[:, ind]\n",
    "        neighbors_dis = dis[ind]\n",
    "        ind_select = ind\n",
    "        dis_x_axis = np.zeros(len(ind))\n",
    "        dis_y_axis = np.zeros(len(ind))\n",
    "        # ------------------------------------ X and y axis -------------------------------------\n",
    "        for j in range(len(ind)):                            # Euclidean distance for x & y axis\n",
    "            dis_x_axis[j] = np.linalg.norm(xy[0, i] - neighbors_electrode[0, j])\n",
    "            dis_y_axis[j] = np.linalg.norm(xy[1, i] - neighbors_electrode[1, j])\n",
    "        ind_x = np.argsort(dis_x_axis)\n",
    "        ind_y = np.argsort(dis_y_axis)\n",
    "        ind_x = ind_x[0:2] \n",
    "        ind_y = ind_y[0:2] \n",
    "        # --------------------------------------------------------------------------------------- \n",
    "        ind = np.concatenate((ind_x, ind_y), axis=0)\n",
    "        neighbors_select = neighbors_electrode[:, ind]\n",
    "        W = (1 / neighbors_dis[ind]) / sum(1 / neighbors_dis[ind])\n",
    "        ind = ind_select[ind]\n",
    "        dis = np.zeros((np.shape(data)[0], 4))\n",
    "        for j in range(4):\n",
    "            dis[:, j] = data.iloc[:, ind[j]] * W[j]\n",
    "        data_laplacian[:, i] = data.iloc[:, i] - np.sum(dis, axis=1) \n",
    "        # --------------------------------------- Plot -------------------------------------------\n",
    "        if display_figure == 'on' and i == data_laplacian.shape[1]:\n",
    "            _, axs = plt.subplots(nrows=1, sharey='row', figsize=(2.7, 2.7), facecolor='#cdd3ce')\n",
    "            axs.plot(xy[0, :], xy[1, :], 'o', color='#0804f5', markerfacecolor='#0804f5', markersize=6)\n",
    "            axs.plot(xy[0, i], xy[1, i], 'o', color='#035310', markerfacecolor='#035310', markersize=6)\n",
    "            axs.plot(neighbors_select[0, :], neighbors_select[1, :], 'o', color='#ee06cf', markerfacecolor='#ee06cf', markersize=6)\n",
    "            axs.set_axis_off()\n",
    "            axs.set_title('Channel locations',  fontsize=8.5)\n",
    "            axs.set_aspect('equal', adjustable='box')\n",
    "            plt.tight_layout()\n",
    "            plt.subplots_adjust(wspace=0.0, hspace=0.0)\n",
    "    \n",
    "    data_laplacian  = pd.DataFrame(data_laplacian)\n",
    "    data_laplacian.columns = data.columns\n",
    "    return data_laplacian "
   ]
  },
  {
   "cell_type": "markdown",
   "metadata": {},
   "source": [
    "*1. [Dataset](https://www.bbci.de/competition/iv/desc_1.html)*<br/>\n",
    "*Parameters of data:*\n",
    "  - *cnt:* the continuous EEG signals, size [time x channels]. The array is stored in datatype INT16. To convert it to uV values, use cnt= 0.1*double(cnt); in Matlab.\n",
    "  - *mrk:* structure of target cue information with fields (the file of evaluation data does not contain this variable).\n",
    "    - *pos:* vector of positions of the cue in the EEG signals given in unit sample, length #cues.\n",
    "    - *y:* vector of target classes (-1 for class one or 1 for class two), length #cues.\n",
    "  - *nfo:* structure providing additional information with fields\n",
    "    - *fs:* sampling rate\n",
    "    - *clab:* cell array of channel labels\n",
    "    - *classes:* cell array of the names of the motor imagery classes\n",
    "    - *xpos:* x-position of electrodes in a 2d-projection\n",
    "    - *ypos:* y-position of electrodes in a 2d-projection"
   ]
  },
  {
   "cell_type": "markdown",
   "metadata": {},
   "source": [
    "*Step 1: Importing pathway files*"
   ]
  },
  {
   "cell_type": "code",
   "execution_count": 5,
   "metadata": {},
   "outputs": [
    {
     "name": "stdout",
     "output_type": "stream",
     "text": [
      "ind: 0 ---> data name: BCICIV_calib_ds1b_100Hz.mat \n",
      "ind: 1 ---> data name: BCICIV_calib_ds1c_100Hz.mat \n",
      "ind: 2 ---> data name: BCICIV_calib_ds1d_100Hz.mat \n",
      "ind: 3 ---> data name: BCICIV_calib_ds1e_100Hz.mat \n",
      "ind: 4 ---> data name: BCICIV_calib_ds1f_100Hz.mat \n",
      "ind: 5 ---> data name: BCICIV_calib_ds1g_100Hz.mat \n"
     ]
    }
   ],
   "source": [
    "folder_name = \"Data\" \n",
    "\n",
    "dir = os.path.dirname(os.path.abspath(os.getcwd()))    # Get the path to the current script's directory\n",
    "data_folder = os.path.join(dir, folder_name)           # Construct the path to the data folder\n",
    "files = os.listdir(data_folder)                        # Get Files within data folder\n",
    "for ind, val in enumerate(files):\n",
    "    print(f\"ind: {ind} ---> data name: {val} \")"
   ]
  },
  {
   "cell_type": "code",
   "execution_count": 6,
   "metadata": {},
   "outputs": [
    {
     "name": "stdout",
     "output_type": "stream",
     "text": [
      "Variables = ['cnt', 'mrk', 'nfo']\n"
     ]
    }
   ],
   "source": [
    "ind = 0\n",
    "data_set = io.loadmat(os.path.join(data_folder, files[ind]))  # Construct the path to the data file within the data folder and then load data  \n",
    "print(f\"Variables = {list(data_set.keys())[3:]}\")                "
   ]
  },
  {
   "cell_type": "markdown",
   "metadata": {},
   "source": [
    "*Step 2.1:  Importing & preparing the raw data*"
   ]
  },
  {
   "cell_type": "code",
   "execution_count": 9,
   "metadata": {},
   "outputs": [],
   "source": [
    "data = np.double(data_set['cnt']) * 0.1\n",
    "\n",
    "Mrk = data_set['mrk']                   # Time of trials\n",
    "Time_Trial = np.concatenate(*Mrk['pos'].flatten())\n",
    "Labels = np.concatenate(*Mrk['y'].flatten())\n",
    "\n",
    "Nfo = data_set['nfo']\n",
    "Fs = Nfo['fs']\n",
    "channels = np.concatenate(np.array(Nfo['clab'].tolist()).flatten())\n",
    "Name_class = Nfo['classes']\n",
    "x_pos = np.concatenate(*Nfo['xpos'].flatten())\n",
    "y_pos = np.concatenate(*Nfo['ypos'].flatten())"
   ]
  },
  {
   "cell_type": "code",
   "execution_count": 10,
   "metadata": {},
   "outputs": [],
   "source": [
    "data, channels = Prepare_data(data, channels)\n",
    "Labels =labels(Labels)                          # Encode target labels with value between 0 and n_classes-1"
   ]
  },
  {
   "cell_type": "markdown",
   "metadata": {},
   "source": [
    "*Step 2.3: Plot data and channels*"
   ]
  },
  {
   "cell_type": "code",
   "execution_count": null,
   "metadata": {},
   "outputs": [],
   "source": [
    "plot_data(data, Fs, channels, first_point=0, last_point=600, normalize_data='off',val_ylim=150,\n",
    "        size_fig=(7,9),title='Raw signal')\n",
    "channel_locations(x_pos, y_pos, channels, color='#D6D6D6')"
   ]
  },
  {
   "cell_type": "markdown",
   "metadata": {},
   "source": [
    "*Step 2.4: Seperating Trials*"
   ]
  },
  {
   "cell_type": "code",
   "execution_count": null,
   "metadata": {},
   "outputs": [],
   "source": []
  },
  {
   "cell_type": "markdown",
   "metadata": {},
   "source": [
    "*Step 3: Filtering*\n",
    " - *Band pass filtering to get beta and mu band information*"
   ]
  },
  {
   "cell_type": "code",
   "execution_count": 17,
   "metadata": {},
   "outputs": [],
   "source": [
    "data_filter = filtering(data, f_low=8, f_high=30, order=3, fs=100, type_filter='bandpass') # btype:'low','high','bandpass','bandstop'"
   ]
  },
  {
   "cell_type": "markdown",
   "metadata": {},
   "source": [
    "*Step 4: Spatial filters:*<br/>\n",
    "[Article](https://www.sciencedirect.com/science/article/abs/pii/S0030402613012473)\n",
    "\n",
    "\n",
    "*Step 4.1: Common Average Reference (CAR):*<br/>\n",
    "CAR is a widely used technique in EEG signal processing to mitigate the effects of common noise across multiple electrode channels. It aims to improve the quality of EEG data by removing or reducing common sources of noise, such as the placement of electrodes, cable movement, or external electromagnetic interference or muscle activity. CAR $\\rightarrow$ *Improving the signal-to-noise ratio of the EEG data.*<br/> $x_{i}(t)=x_{i}(t)-{1 \\over C}\\sum_{j=1}x_{j}(t); j=1,...,C$<br/>\n",
    "\n",
    "*Process:*<br/>\n",
    " - *Step 1: Calculating the Average Signal* $\\rightarrow$ Calculate the average signal across all electrodes at each time point. This average represents the common noise present in the recording.\n",
    " - *Step 2: Subtracting the Average Signal:*  $\\rightarrow$ Subtract the calculated average signal from the individual electrode signals. This helps remove the common noise component.\n"
   ]
  },
  {
   "cell_type": "code",
   "execution_count": null,
   "metadata": {},
   "outputs": [],
   "source": [
    "data_car = car_filter(data_filter)\n",
    "plot_data(data_car, Fs, channels, first_point=0, last_point=600, normalize_data='off',val_ylim=150, \n",
    "        size_fig=(7,9), title='CAR filter')"
   ]
  },
  {
   "cell_type": "markdown",
   "metadata": {},
   "source": [
    "*Step 4.2: Laplacian:*<br/>\n",
    "[Article](https://www.sciencedirect.com/science/article/abs/pii/S0030402613012473)<br/>\n",
    "It  is a spatial filtering technique used in EEG signal processing. It aims to enhance spatial resolution by highlighting local changes in EEG signal activity while attenuating more widespread activity. This technique can help improve the detection of localized brain events and reduce the effects of distant sources and common noise. The Laplacian $x_{i}$ for electrode i is calculated as follows:<br/>\n",
    "$x_{i}(t)=x_{i}(t) - \\sum_{j\\epsilon N_{i}}w_{ij}{x_{j}}; w_{ij}={1/d_{ij} \\over \\sum_{j\\epsilon N_{i}} 1/d_{ij}}$<br/>\n",
    "$x_{i}(t)$ is the potential of the electrode i compare to the reference electrode, $ω_{ij}$ is the constant weight, $d_{ij}$ is the Euclidean distance from electrode i to electrode j. $N_{i}$ is the set of neighborhood electrodes of center electrode i."
   ]
  },
  {
   "cell_type": "code",
   "execution_count": null,
   "metadata": {},
   "outputs": [],
   "source": [
    "type_laplacian='low'\n",
    "data_laplacian = laplacian(data_filter, x_pos, y_pos, type_laplacian, display_figure='on')\n",
    "plot_data(data_laplacian, Fs, channels, first_point=0, last_point=600, normalize_data='off',val_ylim=150,\n",
    "        size_fig=(7,9),title= f\"Laplacian_{type_laplacian}\")"
   ]
  },
  {
   "cell_type": "markdown",
   "metadata": {},
   "source": [
    "*Step 4.3: Common Spatial Pattern (CSP) analysis <br/>\n",
    "[Article](https://www.sciencedirect.com/science/article/abs/pii/S0030402613012473)<br/>\n",
    "It's particularly employed for feature extraction and classification in scenarios where EEG signals are recorded from multiple electrodes and need to be processed for tasks such as motor imagery classification, emotion recognition, and more. The primary goal of CSP is to find spatial filters that maximize the difference in variance between two classes of EEG signals while minimizing the variance within each class. This helps to enhance the separability of the classes and extract relevant discriminative features for subsequent classification.\n"
   ]
  },
  {
   "cell_type": "markdown",
   "metadata": {},
   "source": []
  }
 ],
 "metadata": {
  "kernelspec": {
   "display_name": "Python 3",
   "language": "python",
   "name": "python3"
  },
  "language_info": {
   "codemirror_mode": {
    "name": "ipython",
    "version": 3
   },
   "file_extension": ".py",
   "mimetype": "text/x-python",
   "name": "python",
   "nbconvert_exporter": "python",
   "pygments_lexer": "ipython3",
   "version": "3.11.4"
  },
  "orig_nbformat": 4
 },
 "nbformat": 4,
 "nbformat_minor": 2
}
