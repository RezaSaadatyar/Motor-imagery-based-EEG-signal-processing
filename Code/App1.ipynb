{
 "cells": [
  {
   "cell_type": "markdown",
   "metadata": {},
   "source": [
    "**Motor imagery-based EEG signal processing**<br/>\n",
    "Presented by: Reza Saadatyar  2022-2023 <br/>\n",
    "E-mail: Reza.Saadatyar92@gmail.com  <br/>\n",
    "[Link](https://github.com/RezaSaadatyar/Motor-imagery-based-EEG-signal-processing)\n"
   ]
  },
  {
   "cell_type": "markdown",
   "metadata": {},
   "source": [
    "================================== Importing the required Libraries ==========================="
   ]
  },
  {
   "cell_type": "code",
   "execution_count": 2,
   "metadata": {},
   "outputs": [],
   "source": [
    "import os\n",
    "import numpy as np\n",
    "import pandas as pd\n",
    "from scipy import io\n",
    "from itertools import chain\n",
    "import matplotlib.pyplot as plt"
   ]
  },
  {
   "cell_type": "markdown",
   "metadata": {},
   "source": [
    "========================================= Functions =================================="
   ]
  },
  {
   "cell_type": "code",
   "execution_count": 3,
   "metadata": {},
   "outputs": [],
   "source": [
    "# =============================================== Preparing data =========================================================\n",
    "def Prepare_data(data, channels=None):  \n",
    "    # ?------------------------------------------- Check type data -------------------------------------------      \n",
    "    if 'DataFrame' not in str(type(data)):      \n",
    "        data = pd.DataFrame(data)\n",
    "    # !--------------------------------------- Check dimensional data ----------------------------------------\n",
    "    if data.ndim < 3:\n",
    "        if data.shape[0] < data.shape[1]:\n",
    "            data = data.T\n",
    "    elif data.ndim > 3:\n",
    "        print(\"Please configure the data as two-dimensional (Sample * Channels)\")\n",
    "        sys.exit()\n",
    "    # *--------------------------------------------- Set channels --------------------------------------------\n",
    "    if channels is not None:\n",
    "        data.columns=channels \n",
    "    else:\n",
    "        data.columns = np.arange(1,data.shape[1]+1)\n",
    "         \n",
    "    return data, data.columns"
   ]
  },
  {
   "cell_type": "markdown",
   "metadata": {},
   "source": [
    "*1. Importing the raw data*<br/>\n",
    "[Dataset](https://www.bbci.de/competition/iv/desc_1.html)<br/>\n",
    "*Parameters of data:*\n",
    "  - *cnt:* the continuous EEG signals, size [time x channels]. The array is stored in datatype INT16. To convert it to uV values, use cnt= 0.1*double(cnt); in Matlab.\n",
    "  - *mrk:* structure of target cue information with fields (the file of evaluation data does not contain this variable).\n",
    "    - *pos:* vector of positions of the cue in the EEG signals given in unit sample, length #cues.\n",
    "    - *y:* vector of target classes (-1 for class one or 1 for class two), length #cues.\n",
    "  - *nfo:* structure providing additional information with fields\n",
    "    - *fs:* sampling rate\n",
    "    - *clab:* cell array of channel labels\n",
    "    - *classes:* cell array of the names of the motor imagery classes\n",
    "    - *xpos:* x-position of electrodes in a 2d-projection\n",
    "    - *ypos:* y-position of electrodes in a 2d-projection"
   ]
  },
  {
   "cell_type": "code",
   "execution_count": 4,
   "metadata": {},
   "outputs": [
    {
     "name": "stdout",
     "output_type": "stream",
     "text": [
      "Variables = ['cnt', 'mrk', 'nfo']\n"
     ]
    }
   ],
   "source": [
    "data_set = io.loadmat('BCICIV_calib_ds1a_100Hz.mat')\n",
    "print(f\"Variables = {list(data_set.keys())[3:]}\")"
   ]
  },
  {
   "cell_type": "code",
   "execution_count": 30,
   "metadata": {},
   "outputs": [],
   "source": [
    "data = np.double(data_set['cnt']) * 0.1\n",
    "\n",
    "Mrk = data_set['mrk']                   # Time of trials\n",
    "Time_Trial = np.array(Mrk['pos'].tolist()).flatten()\n",
    "Labels = np.array(Mrk['y'].tolist()).flatten()\n",
    "\n",
    "Nfo = data_set['nfo']\n",
    "Fs = Nfo['fs']\n",
    "channels = list(chain(*list(np.array(Nfo['clab'].tolist()).flatten())))\n",
    "Name_class = Nfo['classes']\n"
   ]
  },
  {
   "cell_type": "code",
   "execution_count": 34,
   "metadata": {},
   "outputs": [
    {
     "data": {
      "text/plain": [
       "(200,)"
      ]
     },
     "execution_count": 34,
     "metadata": {},
     "output_type": "execute_result"
    }
   ],
   "source": []
  },
  {
   "cell_type": "code",
   "execution_count": null,
   "metadata": {},
   "outputs": [],
   "source": [
    "B= Nfo['clab']\n",
    "list(chain(*list(chain(*B))))"
   ]
  },
  {
   "cell_type": "code",
   "execution_count": 104,
   "metadata": {},
   "outputs": [
    {
     "data": {
      "text/plain": [
       "['AF3',\n",
       " 'AF4',\n",
       " 'F5',\n",
       " 'F3',\n",
       " 'F1',\n",
       " 'Fz',\n",
       " 'F2',\n",
       " 'F4',\n",
       " 'F6',\n",
       " 'FC5',\n",
       " 'FC3',\n",
       " 'FC1',\n",
       " 'FCz',\n",
       " 'FC2',\n",
       " 'FC4',\n",
       " 'FC6',\n",
       " 'CFC7',\n",
       " 'CFC5',\n",
       " 'CFC3',\n",
       " 'CFC1',\n",
       " 'CFC2',\n",
       " 'CFC4',\n",
       " 'CFC6',\n",
       " 'CFC8',\n",
       " 'T7',\n",
       " 'C5',\n",
       " 'C3',\n",
       " 'C1',\n",
       " 'Cz',\n",
       " 'C2',\n",
       " 'C4',\n",
       " 'C6',\n",
       " 'T8',\n",
       " 'CCP7',\n",
       " 'CCP5',\n",
       " 'CCP3',\n",
       " 'CCP1',\n",
       " 'CCP2',\n",
       " 'CCP4',\n",
       " 'CCP6',\n",
       " 'CCP8',\n",
       " 'CP5',\n",
       " 'CP3',\n",
       " 'CP1',\n",
       " 'CPz',\n",
       " 'CP2',\n",
       " 'CP4',\n",
       " 'CP6',\n",
       " 'P5',\n",
       " 'P3',\n",
       " 'P1',\n",
       " 'Pz',\n",
       " 'P2',\n",
       " 'P4',\n",
       " 'P6',\n",
       " 'PO1',\n",
       " 'PO2',\n",
       " 'O1',\n",
       " 'O2']"
      ]
     },
     "execution_count": 104,
     "metadata": {},
     "output_type": "execute_result"
    }
   ],
   "source": [
    "list(chain(*np.array(Nfo['clab'].tolist()).flatten()))"
   ]
  },
  {
   "cell_type": "code",
   "execution_count": 82,
   "metadata": {},
   "outputs": [
    {
     "data": {
      "text/plain": [
       "array([[array([[array(['AF3'], dtype='<U3'), array(['AF4'], dtype='<U3'),\n",
       "                array(['F5'], dtype='<U2'), array(['F3'], dtype='<U2'),\n",
       "                array(['F1'], dtype='<U2'), array(['Fz'], dtype='<U2'),\n",
       "                array(['F2'], dtype='<U2'), array(['F4'], dtype='<U2'),\n",
       "                array(['F6'], dtype='<U2'), array(['FC5'], dtype='<U3'),\n",
       "                array(['FC3'], dtype='<U3'), array(['FC1'], dtype='<U3'),\n",
       "                array(['FCz'], dtype='<U3'), array(['FC2'], dtype='<U3'),\n",
       "                array(['FC4'], dtype='<U3'), array(['FC6'], dtype='<U3'),\n",
       "                array(['CFC7'], dtype='<U4'), array(['CFC5'], dtype='<U4'),\n",
       "                array(['CFC3'], dtype='<U4'), array(['CFC1'], dtype='<U4'),\n",
       "                array(['CFC2'], dtype='<U4'), array(['CFC4'], dtype='<U4'),\n",
       "                array(['CFC6'], dtype='<U4'), array(['CFC8'], dtype='<U4'),\n",
       "                array(['T7'], dtype='<U2'), array(['C5'], dtype='<U2'),\n",
       "                array(['C3'], dtype='<U2'), array(['C1'], dtype='<U2'),\n",
       "                array(['Cz'], dtype='<U2'), array(['C2'], dtype='<U2'),\n",
       "                array(['C4'], dtype='<U2'), array(['C6'], dtype='<U2'),\n",
       "                array(['T8'], dtype='<U2'), array(['CCP7'], dtype='<U4'),\n",
       "                array(['CCP5'], dtype='<U4'), array(['CCP3'], dtype='<U4'),\n",
       "                array(['CCP1'], dtype='<U4'), array(['CCP2'], dtype='<U4'),\n",
       "                array(['CCP4'], dtype='<U4'), array(['CCP6'], dtype='<U4'),\n",
       "                array(['CCP8'], dtype='<U4'), array(['CP5'], dtype='<U3'),\n",
       "                array(['CP3'], dtype='<U3'), array(['CP1'], dtype='<U3'),\n",
       "                array(['CPz'], dtype='<U3'), array(['CP2'], dtype='<U3'),\n",
       "                array(['CP4'], dtype='<U3'), array(['CP6'], dtype='<U3'),\n",
       "                array(['P5'], dtype='<U2'), array(['P3'], dtype='<U2'),\n",
       "                array(['P1'], dtype='<U2'), array(['Pz'], dtype='<U2'),\n",
       "                array(['P2'], dtype='<U2'), array(['P4'], dtype='<U2'),\n",
       "                array(['P6'], dtype='<U2'), array(['PO1'], dtype='<U3'),\n",
       "                array(['PO2'], dtype='<U3'), array(['O1'], dtype='<U2'),\n",
       "                array(['O2'], dtype='<U2')]], dtype=object)                ]],\n",
       "      dtype=object)"
      ]
     },
     "execution_count": 82,
     "metadata": {},
     "output_type": "execute_result"
    }
   ],
   "source": [
    "\n",
    "Name_channel = list(np.concatenate(list(np.array(Nfo['clab'].tolist()).flatten())))\n",
    "\n",
    "X_position = list(np.array(Nfo['xpos'].tolist()).flatten())\n",
    "Y_position = list(np.array(Nfo['ypos'].tolist()).flatten())"
   ]
  },
  {
   "cell_type": "code",
   "execution_count": null,
   "metadata": {},
   "outputs": [],
   "source": [
    "Nfo = data_set['nfo']\n",
    "Nfo"
   ]
  },
  {
   "cell_type": "code",
   "execution_count": null,
   "metadata": {},
   "outputs": [],
   "source": [
    "data, channels = Prepare_data(data, channels=None)"
   ]
  },
  {
   "cell_type": "code",
   "execution_count": null,
   "metadata": {},
   "outputs": [],
   "source": [
    "\n",
    "\n",
    "\n",
    "Fs = 100\n",
    "Time = np.arange(Data.shape[0]) / Fs\n",
    "\n"
   ]
  }
 ],
 "metadata": {
  "kernelspec": {
   "display_name": "Python 3",
   "language": "python",
   "name": "python3"
  },
  "language_info": {
   "codemirror_mode": {
    "name": "ipython",
    "version": 3
   },
   "file_extension": ".py",
   "mimetype": "text/x-python",
   "name": "python",
   "nbconvert_exporter": "python",
   "pygments_lexer": "ipython3",
   "version": "3.11.4"
  },
  "orig_nbformat": 4
 },
 "nbformat": 4,
 "nbformat_minor": 2
}
